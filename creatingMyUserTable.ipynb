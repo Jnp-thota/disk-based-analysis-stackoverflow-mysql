{
 "cells": [
  {
   "cell_type": "code",
   "execution_count": 4,
   "metadata": {},
   "outputs": [],
   "source": [
    "import mysql.connector\n",
    "import pandas as pd\n",
    "from sqlalchemy import create_engine\n",
    "\n",
    "# Replace 'your_connection_string' with the actual connection string for your MySQL database\n",
    "connection = mysql.connector.connect(user='root', password='Prakash$124', host='localhost', database='assignment3')\n",
    "cursor = connection.cursor()\n",
    "\n",
    "# SQL statement to create a new table with a subset of users\n",
    "create_table_query = \"CREATE TABLE NewUsers1 AS SELECT * FROM users ORDER BY RAND() LIMIT 4200\"\n",
    "\n",
    "# Execute the SQL statement\n",
    "cursor.execute(create_table_query)\n",
    "\n",
    "# Commit the changes to the database\n",
    "connection.commit()\n",
    "\n",
    "# Close the cursor and connection\n",
    "cursor.close()\n",
    "connection.close()"
   ]
  }
 ],
 "metadata": {
  "kernelspec": {
   "display_name": "base",
   "language": "python",
   "name": "python3"
  },
  "language_info": {
   "codemirror_mode": {
    "name": "ipython",
    "version": 3
   },
   "file_extension": ".py",
   "mimetype": "text/x-python",
   "name": "python",
   "nbconvert_exporter": "python",
   "pygments_lexer": "ipython3",
   "version": "3.11.5"
  }
 },
 "nbformat": 4,
 "nbformat_minor": 2
}
